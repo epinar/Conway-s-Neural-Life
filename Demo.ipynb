{
 "cells": [
  {
   "cell_type": "code",
   "execution_count": 5,
   "metadata": {},
   "outputs": [],
   "source": [
    "import copy\n",
    "import torch\n",
    "import torch.nn as nn\n",
    "import numpy as np\n",
    "import matplotlib.pyplot as plt"
   ]
  },
  {
   "cell_type": "markdown",
   "metadata": {},
   "source": [
    "## Neural Program Induction: Conway's Game of Life"
   ]
  },
  {
   "cell_type": "markdown",
   "metadata": {},
   "source": [
    "Conway's Game consists of checking the neighbors and updating the life phase. The experiments gradually evolve by adding more constraints on update_life."
   ]
  },
  {
   "cell_type": "code",
   "execution_count": 27,
   "metadata": {},
   "outputs": [],
   "source": [
    "def check_neighbours(life, x_coord, y_coord):\n",
    "    max_x, max_y = len(life), len(life[0])\n",
    "    c = 0\n",
    "    for x,y in [(x_coord+i,y_coord+j) for i in (-1,0,1) for j in (-1,0,1) if i != 0 or j != 0]:\n",
    "        if 0 <= x < max_x and 0 <= y < max_y:\n",
    "            if life[x][y]:\n",
    "                c += 1\n",
    "    return c"
   ]
  },
  {
   "cell_type": "code",
   "execution_count": 54,
   "metadata": {},
   "outputs": [],
   "source": [
    "def update_life(life, n):\n",
    "    new_life = copy.deepcopy(life)\n",
    "    for r, row in enumerate(life):\n",
    "        for c, val in enumerate(row):\n",
    "            n_neig = check_neighbours(life, r, c)\n",
    "            # This part changes at each experiment. \n",
    "            # First experiment: predict n. \n",
    "            if n_neig < n :\n",
    "                new_life[r][c] = 0\n",
    "    return new_life"
   ]
  },
  {
   "cell_type": "code",
   "execution_count": 56,
   "metadata": {},
   "outputs": [
    {
     "name": "stdout",
     "output_type": "stream",
     "text": [
      "Before: \n",
      " [[0 0 1 1 0 0 1 1]\n",
      " [1 0 0 1 0 0 1 1]\n",
      " [1 1 0 0 1 0 0 0]\n",
      " [1 0 0 1 1 0 1 1]]\n"
     ]
    }
   ],
   "source": [
    "# The checkerboard that we will use for our experiments.\n",
    "\n",
    "life = [[0, 0, 1, 1, 0, 0, 1, 1],\n",
    "        [1, 0, 0, 1, 0, 0, 1, 1],\n",
    "        [1, 1, 0, 0, 1, 0, 0, 0],\n",
    "        [1, 0, 0, 1, 1, 0, 1, 1]]\n",
    "print(\"Before: \\n\", np.matrix(life))"
   ]
  },
  {
   "cell_type": "code",
   "execution_count": 55,
   "metadata": {},
   "outputs": [
    {
     "name": "stdout",
     "output_type": "stream",
     "text": [
      "Phase:  1  \n",
      " [[0 0 0 0 0 0 1 1]\n",
      " [0 0 0 1 0 0 1 1]\n",
      " [1 1 0 0 1 0 0 0]\n",
      " [0 0 0 0 0 0 0 0]]\n",
      "Phase:  2  \n",
      " [[0 0 0 0 0 0 1 1]\n",
      " [0 0 0 1 0 0 1 1]\n",
      " [1 1 0 0 1 0 0 0]\n",
      " [0 0 0 0 0 0 0 0]]\n",
      "Phase:  3  \n",
      " [[0 0 0 0 0 0 1 1]\n",
      " [0 0 0 1 0 0 1 1]\n",
      " [1 1 0 0 1 0 0 0]\n",
      " [0 0 0 0 0 0 0 0]]\n",
      "Phase:  4  \n",
      " [[0 0 0 0 0 0 1 1]\n",
      " [0 0 0 1 0 0 1 1]\n",
      " [1 1 0 0 1 0 0 0]\n",
      " [0 0 0 0 0 0 0 0]]\n",
      "Phase:  5  \n",
      " [[0 0 0 0 0 0 1 1]\n",
      " [0 0 0 1 0 0 1 1]\n",
      " [1 1 0 0 1 0 0 0]\n",
      " [0 0 0 0 0 0 0 0]]\n"
     ]
    }
   ],
   "source": [
    "n = 3 # number of neighbors\n",
    "for i in range(5):\n",
    "    new_life = update_life(life, n)\n",
    "    print(\"Phase: \", i+1 ,\" \\n\", np.matrix(new_life))"
   ]
  },
  {
   "cell_type": "markdown",
   "metadata": {},
   "source": [
    "### Train with a single in/out pair"
   ]
  },
  {
   "cell_type": "markdown",
   "metadata": {},
   "source": [
    "First we train the feed forward neural network with the same pair of in-out phases. We can easily learn n after few steps."
   ]
  },
  {
   "cell_type": "code",
   "execution_count": 22,
   "metadata": {},
   "outputs": [
    {
     "name": "stdout",
     "output_type": "stream",
     "text": [
      "torch.Size([1, 64])\n",
      "target:  tensor([3])\n",
      "Loss:  tensor(2.3069, grad_fn=<NllLossBackward>)\n",
      "STOP! Phase:  13\n"
     ]
    }
   ],
   "source": [
    "N, M = len(life), len(life[0])\n",
    "\n",
    "# Flatten the grids into vectors and concatenate. \n",
    "life_in = torch.FloatTensor(life).view(1, N*M)\n",
    "new_life_in = torch.FloatTensor(new_life).view(1, N*M)\n",
    "life_input = torch.cat((life_in, new_life_in), 1)\n",
    "\n",
    "#print(life_in.view(1, 12))\n",
    "print(life_input.shape)\n",
    "\n",
    "input_dim = N*M*2\n",
    "output_dim = 9\n",
    "\n",
    "fc = nn.Linear(input_dim, output_dim)\n",
    "criterion = nn.CrossEntropyLoss()\n",
    "target = torch.LongTensor([n])\n",
    "print(\"target: \", target)\n",
    "\n",
    "optim = torch.optim.SGD(fc.parameters(), lr=1e-3)\n",
    "\n",
    "losses = []\n",
    "\n",
    "for t in range(1000):\n",
    "    out = fc(life_input)\n",
    "\n",
    "    loss = criterion(out, target)\n",
    "\n",
    "    _, predicted = torch.max(out, 1)\n",
    "    if predicted == n:\n",
    "            print(\"STOP! Phase: \", t)\n",
    "            break\n",
    "    \n",
    "    if t%200 == 0:\n",
    "        print(\"Loss: \", loss)\n",
    "        _, predicted = torch.max(out, 1)\n",
    "        \n",
    "    losses.append(loss)\n",
    "\n",
    "    optim.zero_grad()\n",
    "    loss.backward()\n",
    "    optim.step()"
   ]
  },
  {
   "cell_type": "code",
   "execution_count": 23,
   "metadata": {},
   "outputs": [
    {
     "data": {
      "text/plain": [
       "[<matplotlib.lines.Line2D at 0x11d271e48>]"
      ]
     },
     "execution_count": 23,
     "metadata": {},
     "output_type": "execute_result"
    },
    {
     "data": {
      "image/png": "[encoded data removed]",
      "text/plain": [
       "<Figure size 432x288 with 1 Axes>"
      ]
     },
     "metadata": {
      "needs_background": "light"
     },
     "output_type": "display_data"
    }
   ],
   "source": [
    "plt.plot(losses)"
   ]
  },
  {
   "cell_type": "markdown",
   "metadata": {},
   "source": [
    "### Train with a life "
   ]
  },
  {
   "cell_type": "markdown",
   "metadata": {},
   "source": [
    "Now at each gradient descent step, introduce the pair of new phases updated by the rules."
   ]
  },
  {
   "cell_type": "code",
   "execution_count": 24,
   "metadata": {},
   "outputs": [
    {
     "name": "stdout",
     "output_type": "stream",
     "text": [
      "tensor(2.1066, grad_fn=<NllLossBackward>)\n",
      "tensor([7])\n",
      "STOP!  18\n"
     ]
    }
   ],
   "source": [
    "fc = nn.Linear(input_dim, output_dim)\n",
    "criterion = nn.CrossEntropyLoss()\n",
    "target = torch.LongTensor([n])\n",
    "\n",
    "optim = torch.optim.SGD(fc.parameters(), lr=1e-3)\n",
    "\n",
    "losses = []\n",
    "\n",
    "for t in range(201):\n",
    "    \n",
    "    # update life\n",
    "    new_life = update_life(life, n)\n",
    "    life_in = torch.FloatTensor(life).view(1, N*M)\n",
    "    new_life_in = torch.FloatTensor(new_life).view(1, N*M)\n",
    "    life_input = torch.cat((life_in, new_life_in), 1)\n",
    "    \n",
    "    out = fc(life_input)\n",
    "    loss = criterion(out, target)\n",
    "\n",
    "    _, predicted = torch.max(out, 1)\n",
    "    if predicted == n:\n",
    "            print(\"STOP! \", t)\n",
    "            break\n",
    "    \n",
    "    if t%200 == 0:\n",
    "        print(loss)\n",
    "        print(predicted)\n",
    "        \n",
    "        \n",
    "    losses.append(loss)\n",
    "\n",
    "    optim.zero_grad()\n",
    "    loss.backward()\n",
    "    optim.step()\n",
    "    \n",
    "    life = copy.deepcopy(life)"
   ]
  },
  {
   "cell_type": "code",
   "execution_count": 25,
   "metadata": {},
   "outputs": [
    {
     "data": {
      "text/plain": [
       "[<matplotlib.lines.Line2D at 0x11d2d8080>]"
      ]
     },
     "execution_count": 25,
     "metadata": {},
     "output_type": "execute_result"
    },
    {
     "data": {
      "image/png": "[encoded data removed]",
      "text/plain": [
       "<Figure size 432x288 with 1 Axes>"
      ]
     },
     "metadata": {
      "needs_background": "light"
     },
     "output_type": "display_data"
    }
   ],
   "source": [
    "plt.plot(losses)"
   ]
  },
  {
   "cell_type": "markdown",
   "metadata": {},
   "source": [
    "# Second Experiment\n",
    "\n",
    "Introduce two variables in update rule to be predicted."
   ]
  },
  {
   "cell_type": "code",
   "execution_count": 57,
   "metadata": {},
   "outputs": [],
   "source": [
    "def update_life(life, m, n):\n",
    "    new_life = copy.deepcopy(life)\n",
    "    for r, row in enumerate(life):\n",
    "        for c, val in enumerate(row):\n",
    "            n_neig = check_neighbours(life, r, c)\n",
    "            # This part changes at each experiment. \n",
    "            if n_neig != m and n_neig != n:\n",
    "                new_life[r][c] = 0\n",
    "                \n",
    "    return new_life"
   ]
  },
  {
   "cell_type": "code",
   "execution_count": 58,
   "metadata": {},
   "outputs": [],
   "source": [
    "m = 2 \n",
    "n = 3"
   ]
  },
  {
   "cell_type": "code",
   "execution_count": 35,
   "metadata": {},
   "outputs": [],
   "source": []
  },
  {
   "cell_type": "code",
   "execution_count": 68,
   "metadata": {},
   "outputs": [
    {
     "data": {
      "text/plain": [
       "tensor([[0., 0., 1., 1., 0., 0., 0., 0., 0.]])"
      ]
     },
     "execution_count": 68,
     "metadata": {},
     "output_type": "execute_result"
    }
   ],
   "source": [
    "target = torch.zeros((1,9))\n",
    "target[0,m]=1\n",
    "target[0,n]=1\n",
    "target"
   ]
  },
  {
   "cell_type": "code",
   "execution_count": 95,
   "metadata": {},
   "outputs": [
    {
     "name": "stdout",
     "output_type": "stream",
     "text": [
      "loss:  tensor(0.6417, grad_fn=<BinaryCrossEntropyWithLogitsBackward>)\n",
      "pred:  tensor([2, 1])\n",
      "loss:  tensor(0.6046, grad_fn=<BinaryCrossEntropyWithLogitsBackward>)\n",
      "pred:  tensor([2, 1])\n",
      "STOP!  52\n"
     ]
    }
   ],
   "source": [
    "fc = nn.Linear(input_dim, output_dim)\n",
    "criterion = nn.BCEWithLogitsLoss()\n",
    "target = torch.zeros((1,9))\n",
    "target[0,m]=1\n",
    "target[0,n]=1\n",
    "\n",
    "optim = torch.optim.SGD(fc.parameters(), lr=1e-3)\n",
    "\n",
    "losses = []\n",
    "\n",
    "for t in range(100):\n",
    "    \n",
    "    # update life\n",
    "    new_life = update_life(life, m, n)\n",
    "    life_in = torch.FloatTensor(life).view(1, N*M)\n",
    "    new_life_in = torch.FloatTensor(new_life).view(1, N*M)\n",
    "    life_input = torch.cat((life_in, new_life_in), 1)\n",
    "    \n",
    "    out = fc(life_input)\n",
    "    #print(out)\n",
    "    loss = criterion(out, target)\n",
    "\n",
    "    pred = torch.zeros_like(target)\n",
    "    ind = torch.topk(out, 2)[1][0]\n",
    "    pred[0, ind[0]]=1\n",
    "    pred[0, ind[1]]=1\n",
    "    if torch.all(torch.eq(pred, target)):\n",
    "        print(\"STOP! \", t)\n",
    "        break\n",
    "        \n",
    "    if t%50 == 0:\n",
    "        print(\"loss: \", loss)\n",
    "        print(\"pred: \", ind)\n",
    "        \n",
    "    losses.append(loss)\n",
    "\n",
    "    optim.zero_grad()\n",
    "    loss.backward()\n",
    "    optim.step()\n",
    "    \n",
    "    life = copy.deepcopy(life)"
   ]
  },
  {
   "cell_type": "code",
   "execution_count": 96,
   "metadata": {},
   "outputs": [
    {
     "data": {
      "text/plain": [
       "[<matplotlib.lines.Line2D at 0x11d49beb8>]"
      ]
     },
     "execution_count": 96,
     "metadata": {},
     "output_type": "execute_result"
    },
    {
     "data": {
      "image/png": "[encoded data removed]",
      "text/plain": [
       "<Figure size 432x288 with 1 Axes>"
      ]
     },
     "metadata": {
      "needs_background": "light"
     },
     "output_type": "display_data"
    }
   ],
   "source": [
    "plt.plot(losses)"
   ]
  },
  {
   "cell_type": "code",
   "execution_count": null,
   "metadata": {},
   "outputs": [],
   "source": []
  }
 ],
 "metadata": {
  "kernelspec": {
   "display_name": "Python 3",
   "language": "python",
   "name": "python3"
  },
  "language_info": {
   "codemirror_mode": {
    "name": "ipython",
    "version": 3
   },
   "file_extension": ".py",
   "mimetype": "text/x-python",
   "name": "python",
   "nbconvert_exporter": "python",
   "pygments_lexer": "ipython3",
   "version": "3.7.2"
  }
 },
 "nbformat": 4,
 "nbformat_minor": 2
}
