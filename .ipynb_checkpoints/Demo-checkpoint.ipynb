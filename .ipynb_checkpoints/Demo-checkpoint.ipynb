{
 "cells": [
  {
   "cell_type": "code",
   "execution_count": 3,
   "metadata": {},
   "outputs": [],
   "source": [
    "import copy\n",
    "import torch\n",
    "import torch.nn as nn\n",
    "import numpy as np\n",
    "import matplotlib.pyplot as plt"
   ]
  },
  {
   "cell_type": "markdown",
   "metadata": {},
   "source": [
    "## Neural Program Induction: Conway's Game of Life"
   ]
  },
  {
   "cell_type": "markdown",
   "metadata": {},
   "source": [
    "Conway's Game consists of checking the neighbors and updating the life phase. The experiments gradually evolve by adding more constraints on update_life."
   ]
  },
  {
   "cell_type": "code",
   "execution_count": 4,
   "metadata": {},
   "outputs": [],
   "source": [
    "def check_neighbours(life, x_coord, y_coord):\n",
    "    max_x, max_y = len(life), len(life[0])\n",
    "    c = 0\n",
    "    for x,y in [(x_coord+i,y_coord+j) for i in (-1,0,1) for j in (-1,0,1) if i != 0 or j != 0]:\n",
    "        if 0 <= x < max_x and 0 <= y < max_y:\n",
    "            if life[x][y]:\n",
    "                c += 1\n",
    "    return c"
   ]
  },
  {
   "cell_type": "code",
   "execution_count": 14,
   "metadata": {},
   "outputs": [],
   "source": [
    "def update_life(life, n):\n",
    "    new_life = copy.deepcopy(life)\n",
    "    for r, row in enumerate(life):\n",
    "        for c, val in enumerate(row):\n",
    "            n_neig = check_neighbours(life, r, c)\n",
    "            # This part changes at each experiment. \n",
    "            # First experiment: predict n. \n",
    "            if n_neig < n :\n",
    "                new_life[r][c] = 0\n",
    "    return new_life"
   ]
  },
  {
   "cell_type": "code",
   "execution_count": 15,
   "metadata": {},
   "outputs": [
    {
     "name": "stdout",
     "output_type": "stream",
     "text": [
      "Before: \n",
      " [[0 0 1 1 0 0 1 1]\n",
      " [1 0 0 1 0 0 1 1]\n",
      " [1 1 0 0 1 0 0 0]\n",
      " [1 0 0 1 1 0 1 1]]\n"
     ]
    }
   ],
   "source": [
    "# The checkerboard that we will use for our experiments.\n",
    "\n",
    "life = [[0, 0, 1, 1, 0, 0, 1, 1],\n",
    "        [1, 0, 0, 1, 0, 0, 1, 1],\n",
    "        [1, 1, 0, 0, 1, 0, 0, 0],\n",
    "        [1, 0, 0, 1, 1, 0, 1, 1]]\n",
    "print(\"Before: \\n\", np.matrix(life))"
   ]
  },
  {
   "cell_type": "code",
   "execution_count": 16,
   "metadata": {},
   "outputs": [
    {
     "name": "stdout",
     "output_type": "stream",
     "text": [
      "Phase:  1  \n",
      " [[0 0 0 0 0 0 1 1]\n",
      " [0 0 0 1 0 0 1 1]\n",
      " [1 1 0 0 1 0 0 0]\n",
      " [0 0 0 0 0 0 0 0]]\n",
      "Phase:  2  \n",
      " [[0 0 0 0 0 0 1 1]\n",
      " [0 0 0 1 0 0 1 1]\n",
      " [1 1 0 0 1 0 0 0]\n",
      " [0 0 0 0 0 0 0 0]]\n",
      "Phase:  3  \n",
      " [[0 0 0 0 0 0 1 1]\n",
      " [0 0 0 1 0 0 1 1]\n",
      " [1 1 0 0 1 0 0 0]\n",
      " [0 0 0 0 0 0 0 0]]\n",
      "Phase:  4  \n",
      " [[0 0 0 0 0 0 1 1]\n",
      " [0 0 0 1 0 0 1 1]\n",
      " [1 1 0 0 1 0 0 0]\n",
      " [0 0 0 0 0 0 0 0]]\n",
      "Phase:  5  \n",
      " [[0 0 0 0 0 0 1 1]\n",
      " [0 0 0 1 0 0 1 1]\n",
      " [1 1 0 0 1 0 0 0]\n",
      " [0 0 0 0 0 0 0 0]]\n"
     ]
    }
   ],
   "source": [
    "n = 3 # number of neighbors\n",
    "for i in range(5):\n",
    "    new_life = update_life(life, n)\n",
    "    print(\"Phase: \", i+1 ,\" \\n\", np.matrix(new_life))"
   ]
  },
  {
   "cell_type": "markdown",
   "metadata": {},
   "source": [
    "### Train with a single in/out pair"
   ]
  },
  {
   "cell_type": "markdown",
   "metadata": {},
   "source": [
    "First we train the feed forward neural network with the same pair of in-out phases. We can easily learn n after few steps."
   ]
  },
  {
   "cell_type": "code",
   "execution_count": 17,
   "metadata": {},
   "outputs": [
    {
     "name": "stdout",
     "output_type": "stream",
     "text": [
      "torch.Size([1, 64])\n"
     ]
    }
   ],
   "source": [
    "N, M = len(life), len(life[0])\n",
    "\n",
    "# Flatten the grids into vectors and concatenate. \n",
    "life_in = torch.FloatTensor(life).view(1, N*M)\n",
    "new_life_in = torch.FloatTensor(new_life).view(1, N*M)\n",
    "life_input = torch.cat((life_in, new_life_in), 1)\n",
    "\n",
    "#print(life_in.view(1, 12))\n",
    "print(life_input.shape)\n",
    "\n",
    "input_dim = N*M*2\n",
    "output_dim = 9"
   ]
  },
  {
   "cell_type": "code",
   "execution_count": 22,
   "metadata": {},
   "outputs": [
    {
     "name": "stdout",
     "output_type": "stream",
     "text": [
      "torch.Size([1, 64])\n",
      "target:  tensor([3])\n",
      "Loss:  tensor(2.3069, grad_fn=<NllLossBackward>)\n",
      "STOP! Phase:  13\n"
     ]
    }
   ],
   "source": [
    "fc = nn.Linear(input_dim, output_dim)\n",
    "criterion = nn.CrossEntropyLoss()\n",
    "target = torch.LongTensor([n])\n",
    "print(\"target: \", target)\n",
    "\n",
    "optim = torch.optim.SGD(fc.parameters(), lr=1e-3)\n",
    "\n",
    "losses = []\n",
    "\n",
    "for t in range(1000):\n",
    "    out = fc(life_input)\n",
    "\n",
    "    loss = criterion(out, target)\n",
    "\n",
    "    _, predicted = torch.max(out, 1)\n",
    "    if predicted == n:\n",
    "            print(\"STOP! Phase: \", t)\n",
    "            break\n",
    "    \n",
    "    if t%200 == 0:\n",
    "        print(\"Loss: \", loss)\n",
    "        _, predicted = torch.max(out, 1)\n",
    "        \n",
    "    losses.append(loss)\n",
    "\n",
    "    optim.zero_grad()\n",
    "    loss.backward()\n",
    "    optim.step()"
   ]
  },
  {
   "cell_type": "code",
   "execution_count": 23,
   "metadata": {},
   "outputs": [
    {
     "data": {
      "text/plain": [
       "[<matplotlib.lines.Line2D at 0x11d271e48>]"
      ]
     },
     "execution_count": 23,
     "metadata": {},
     "output_type": "execute_result"
    },
    {
     "data": {
      "image/png": "[encoded data removed]",
      "text/plain": [
       "<Figure size 432x288 with 1 Axes>"
      ]
     },
     "metadata": {
      "needs_background": "light"
     },
     "output_type": "display_data"
    }
   ],
   "source": [
    "plt.plot(losses)"
   ]
  },
  {
   "cell_type": "markdown",
   "metadata": {},
   "source": [
    "### Train with a life "
   ]
  },
  {
   "cell_type": "markdown",
   "metadata": {},
   "source": [
    "Now at each gradient descent step, introduce the pair of new phases updated by the rules."
   ]
  },
  {
   "cell_type": "code",
   "execution_count": 24,
   "metadata": {},
   "outputs": [
    {
     "name": "stdout",
     "output_type": "stream",
     "text": [
      "tensor(2.1066, grad_fn=<NllLossBackward>)\n",
      "tensor([7])\n",
      "STOP!  18\n"
     ]
    }
   ],
   "source": [
    "fc = nn.Linear(input_dim, output_dim)\n",
    "criterion = nn.CrossEntropyLoss()\n",
    "target = torch.LongTensor([n])\n",
    "\n",
    "optim = torch.optim.SGD(fc.parameters(), lr=1e-3)\n",
    "\n",
    "losses = []\n",
    "\n",
    "for t in range(201):\n",
    "    \n",
    "    # update life\n",
    "    new_life = update_life(life, n)\n",
    "    life_in = torch.FloatTensor(life).view(1, N*M)\n",
    "    new_life_in = torch.FloatTensor(new_life).view(1, N*M)\n",
    "    life_input = torch.cat((life_in, new_life_in), 1)\n",
    "    \n",
    "    out = fc(life_input)\n",
    "    loss = criterion(out, target)\n",
    "\n",
    "    _, predicted = torch.max(out, 1)\n",
    "    if predicted == n:\n",
    "            print(\"STOP! \", t)\n",
    "            break\n",
    "    \n",
    "    if t%200 == 0:\n",
    "        print(loss)\n",
    "        print(predicted)\n",
    "        \n",
    "        \n",
    "    losses.append(loss)\n",
    "\n",
    "    optim.zero_grad()\n",
    "    loss.backward()\n",
    "    optim.step()\n",
    "    \n",
    "    life = copy.deepcopy(life)"
   ]
  },
  {
   "cell_type": "code",
   "execution_count": 25,
   "metadata": {},
   "outputs": [
    {
     "data": {
      "text/plain": [
       "[<matplotlib.lines.Line2D at 0x11d2d8080>]"
      ]
     },
     "execution_count": 25,
     "metadata": {},
     "output_type": "execute_result"
    },
    {
     "data": {
      "image/png": "[encoded data removed]",
      "text/plain": [
       "<Figure size 432x288 with 1 Axes>"
      ]
     },
     "metadata": {
      "needs_background": "light"
     },
     "output_type": "display_data"
    }
   ],
   "source": [
    "plt.plot(losses)"
   ]
  },
  {
   "cell_type": "markdown",
   "metadata": {},
   "source": [
    "# Second Experiment\n",
    "\n",
    "Introduce two variables in update rule to be predicted."
   ]
  },
  {
   "cell_type": "code",
   "execution_count": 24,
   "metadata": {},
   "outputs": [],
   "source": [
    "def update_life(life, m, n):\n",
    "    new_life = copy.deepcopy(life)\n",
    "    for r, row in enumerate(life):\n",
    "        for c, val in enumerate(row):\n",
    "            n_neig = check_neighbours(life, r, c)\n",
    "            # This part changes at each experiment. \n",
    "            if n_neig != m and n_neig != n:\n",
    "                new_life[r][c] = 0\n",
    "                \n",
    "    return new_life"
   ]
  },
  {
   "cell_type": "code",
   "execution_count": 7,
   "metadata": {},
   "outputs": [],
   "source": [
    "m = 2 \n",
    "n = 3"
   ]
  },
  {
   "cell_type": "code",
   "execution_count": 30,
   "metadata": {},
   "outputs": [
    {
     "name": "stdout",
     "output_type": "stream",
     "text": [
      "loss:  tensor(0.7315, grad_fn=<BinaryCrossEntropyWithLogitsBackward>)\n",
      "pred:  tensor([4, 7])\n",
      "loss:  tensor(0.6873, grad_fn=<BinaryCrossEntropyWithLogitsBackward>)\n",
      "pred:  tensor([4, 3])\n",
      "loss:  tensor(0.6467, grad_fn=<BinaryCrossEntropyWithLogitsBackward>)\n",
      "pred:  tensor([4, 3])\n",
      "loss:  tensor(0.6093, grad_fn=<BinaryCrossEntropyWithLogitsBackward>)\n",
      "pred:  tensor([4, 3])\n",
      "loss:  tensor(0.5749, grad_fn=<BinaryCrossEntropyWithLogitsBackward>)\n",
      "pred:  tensor([4, 3])\n",
      "loss:  tensor(0.5432, grad_fn=<BinaryCrossEntropyWithLogitsBackward>)\n",
      "pred:  tensor([4, 3])\n",
      "STOP!  282\n"
     ]
    }
   ],
   "source": [
    "fc = nn.Linear(input_dim, output_dim)\n",
    "criterion = nn.BCEWithLogitsLoss()\n",
    "target = torch.zeros((1,9))\n",
    "target[0,m]=1\n",
    "target[0,n]=1\n",
    "\n",
    "optim = torch.optim.SGD(fc.parameters(), lr=1e-3)\n",
    "\n",
    "losses = []\n",
    "\n",
    "for t in range(500):\n",
    "    \n",
    "    # update life\n",
    "    new_life = update_life(life, m, n)\n",
    "    life_in = torch.FloatTensor(life).view(1, N*M)\n",
    "    new_life_in = torch.FloatTensor(new_life).view(1, N*M)\n",
    "    life_input = torch.cat((life_in, new_life_in), 1)\n",
    "    \n",
    "    out = fc(life_input)\n",
    "    #print(out)\n",
    "    loss = criterion(out, target)\n",
    "\n",
    "    pred = torch.zeros_like(target)\n",
    "    ind = torch.topk(out, 2)[1][0]\n",
    "    pred[0, ind[0]]=1\n",
    "    pred[0, ind[1]]=1\n",
    "    if torch.all(torch.eq(pred, target)):\n",
    "        print(\"STOP! \", t)\n",
    "        break\n",
    "        \n",
    "    if t%50 == 0:\n",
    "        print(\"loss: \", loss)\n",
    "        print(\"pred: \", ind)\n",
    "        \n",
    "    losses.append(loss)\n",
    "\n",
    "    optim.zero_grad()\n",
    "    loss.backward()\n",
    "    optim.step()\n",
    "    \n",
    "    life = copy.deepcopy(life)"
   ]
  },
  {
   "cell_type": "code",
   "execution_count": 23,
   "metadata": {},
   "outputs": [
    {
     "data": {
      "text/plain": [
       "[<matplotlib.lines.Line2D at 0x12265c940>]"
      ]
     },
     "execution_count": 23,
     "metadata": {},
     "output_type": "execute_result"
    },
    {
     "data": {
      "image/png": "[encoded data removed]",
      "text/plain": [
       "<Figure size 432x288 with 1 Axes>"
      ]
     },
     "metadata": {
      "needs_background": "light"
     },
     "output_type": "display_data"
    }
   ],
   "source": [
    "plt.plot(losses)"
   ]
  },
  {
   "cell_type": "markdown",
   "metadata": {},
   "source": [
    "# Third Experiment\n",
    "\n",
    "Introduce a variable and a logical operation with update rule to be predicted. \n",
    "\n",
    "Enumerate the operation variable as:\n",
    "\n",
    "    10 -> \"<\"\n",
    "    11 -> \"=\"\n",
    "    12 -> \">\""
   ]
  },
  {
   "cell_type": "code",
   "execution_count": 32,
   "metadata": {},
   "outputs": [],
   "source": [
    "def update_life(life, n, op):\n",
    "    new_life = copy.deepcopy(life)\n",
    "    for r, row in enumerate(life):\n",
    "        for c, val in enumerate(row):\n",
    "            n_neig = check_neighbours(life, r, c)\n",
    "            # This part changes at each experiment.\n",
    "            if op == 10 and n_neig < n:\n",
    "                new_life[r][c] = 0\n",
    "            elif op == 11 and n_neig == n:\n",
    "                new_life[r][c] = 0\n",
    "            elif op == 12 and n_neig > n:\n",
    "                new_life[r][c] = 0\n",
    "    return new_life"
   ]
  },
  {
   "cell_type": "code",
   "execution_count": 40,
   "metadata": {},
   "outputs": [],
   "source": [
    "n=3\n",
    "op=12\n",
    "output_dim = 13"
   ]
  },
  {
   "cell_type": "code",
   "execution_count": 45,
   "metadata": {},
   "outputs": [
    {
     "name": "stdout",
     "output_type": "stream",
     "text": [
      "Iteration t:  0  loss:  tensor(0.7279, grad_fn=<BinaryCrossEntropyWithLogitsBackward>)\n",
      "       pred:  tensor([9, 4])\n",
      "Iteration t:  50  loss:  tensor(0.6950, grad_fn=<BinaryCrossEntropyWithLogitsBackward>)\n",
      "       pred:  tensor([9, 4])\n",
      "Iteration t:  100  loss:  tensor(0.6640, grad_fn=<BinaryCrossEntropyWithLogitsBackward>)\n",
      "       pred:  tensor([9, 4])\n",
      "Iteration t:  150  loss:  tensor(0.6349, grad_fn=<BinaryCrossEntropyWithLogitsBackward>)\n",
      "       pred:  tensor([ 9, 12])\n",
      "Iteration t:  200  loss:  tensor(0.6076, grad_fn=<BinaryCrossEntropyWithLogitsBackward>)\n",
      "       pred:  tensor([12,  9])\n",
      "Iteration t:  250  loss:  tensor(0.5819, grad_fn=<BinaryCrossEntropyWithLogitsBackward>)\n",
      "       pred:  tensor([12,  9])\n",
      "Iteration t:  300  loss:  tensor(0.5578, grad_fn=<BinaryCrossEntropyWithLogitsBackward>)\n",
      "       pred:  tensor([12,  9])\n",
      "STOP! t:  337\n",
      "   pred:  tensor([12,  3])\n"
     ]
    }
   ],
   "source": [
    "fc = nn.Linear(input_dim, output_dim)\n",
    "criterion = nn.BCEWithLogitsLoss()\n",
    "target = torch.zeros((1,output_dim))\n",
    "target[0,n]=1\n",
    "target[0,op]=1\n",
    "\n",
    "optim = torch.optim.SGD(fc.parameters(), lr=1e-3)\n",
    "\n",
    "losses = []\n",
    "\n",
    "for t in range(500):\n",
    "    \n",
    "    # update life\n",
    "    new_life = update_life(life, n, op)\n",
    "    life_in = torch.FloatTensor(life).view(1, N*M)\n",
    "    new_life_in = torch.FloatTensor(new_life).view(1, N*M)\n",
    "    life_input = torch.cat((life_in, new_life_in), 1)\n",
    "    \n",
    "    out = fc(life_input)\n",
    "    #print(out)\n",
    "    loss = criterion(out, target)\n",
    "\n",
    "    pred = torch.zeros_like(target)\n",
    "    ind = torch.topk(out, 2)[1][0]\n",
    "    pred[0, ind[0]]=1\n",
    "    pred[0, ind[1]]=1\n",
    "    if torch.all(torch.eq(pred, target)):\n",
    "        print(\"STOP! t: \", t)\n",
    "        print(\"   pred: \", ind)\n",
    "        \n",
    "        break\n",
    "        \n",
    "    if t%50 == 0:\n",
    "        print(\"Iteration t: \", t, \" loss: \", loss)\n",
    "        print(\"       pred: \", ind)\n",
    "        \n",
    "    losses.append(loss)\n",
    "\n",
    "    optim.zero_grad()\n",
    "    loss.backward()\n",
    "    optim.step()\n",
    "    \n",
    "    life = copy.deepcopy(life)"
   ]
  },
  {
   "cell_type": "markdown",
   "metadata": {},
   "source": [
    "# Fourth Experiment\n",
    "\n",
    "Now, try to predict if a rule is about death or birth.\n",
    "Enumerate the condition variables as:\n",
    "\n",
    "    13 -> die out\n",
    "    14 -> become alive"
   ]
  },
  {
   "cell_type": "code",
   "execution_count": 50,
   "metadata": {},
   "outputs": [],
   "source": [
    "def update_life(life, n, cond):\n",
    "    new_life = copy.deepcopy(life)\n",
    "    for r, row in enumerate(life):\n",
    "        for c, val in enumerate(row):\n",
    "            n_neig = check_neighbours(life, r, c)\n",
    "            # This part changes at each experiment.\n",
    "            if n_neig<n:\n",
    "                if cond==13 and life[r][c]==0:\n",
    "                    new_life[r][c]= 1\n",
    "                elif cond==14 and life[r][c]==1:\n",
    "                    new_life[r][c]= 0\n",
    "    return new_life"
   ]
  },
  {
   "cell_type": "code",
   "execution_count": 51,
   "metadata": {},
   "outputs": [],
   "source": [
    "cond = 14\n",
    "n = 3\n",
    "output_dim = 15"
   ]
  },
  {
   "cell_type": "code",
   "execution_count": 55,
   "metadata": {},
   "outputs": [
    {
     "name": "stdout",
     "output_type": "stream",
     "text": [
      "Iteration t:  0  loss:  tensor(0.7483, grad_fn=<BinaryCrossEntropyWithLogitsBackward>)\n",
      "       pred:  tensor([12,  9])\n",
      "Iteration t:  50  loss:  tensor(0.7258, grad_fn=<BinaryCrossEntropyWithLogitsBackward>)\n",
      "       pred:  tensor([12,  3])\n",
      "Iteration t:  100  loss:  tensor(0.7042, grad_fn=<BinaryCrossEntropyWithLogitsBackward>)\n",
      "       pred:  tensor([12,  3])\n",
      "Iteration t:  150  loss:  tensor(0.6834, grad_fn=<BinaryCrossEntropyWithLogitsBackward>)\n",
      "       pred:  tensor([12,  3])\n",
      "Iteration t:  200  loss:  tensor(0.6633, grad_fn=<BinaryCrossEntropyWithLogitsBackward>)\n",
      "       pred:  tensor([ 3, 12])\n",
      "Iteration t:  250  loss:  tensor(0.6441, grad_fn=<BinaryCrossEntropyWithLogitsBackward>)\n",
      "       pred:  tensor([ 3, 12])\n",
      "Iteration t:  300  loss:  tensor(0.6256, grad_fn=<BinaryCrossEntropyWithLogitsBackward>)\n",
      "       pred:  tensor([ 3, 12])\n",
      "Iteration t:  350  loss:  tensor(0.6078, grad_fn=<BinaryCrossEntropyWithLogitsBackward>)\n",
      "       pred:  tensor([ 3, 12])\n",
      "Iteration t:  400  loss:  tensor(0.5907, grad_fn=<BinaryCrossEntropyWithLogitsBackward>)\n",
      "       pred:  tensor([ 3, 12])\n",
      "Iteration t:  450  loss:  tensor(0.5743, grad_fn=<BinaryCrossEntropyWithLogitsBackward>)\n",
      "       pred:  tensor([ 3, 12])\n",
      "Iteration t:  500  loss:  tensor(0.5585, grad_fn=<BinaryCrossEntropyWithLogitsBackward>)\n",
      "       pred:  tensor([ 3, 12])\n",
      "Iteration t:  550  loss:  tensor(0.5434, grad_fn=<BinaryCrossEntropyWithLogitsBackward>)\n",
      "       pred:  tensor([ 3, 12])\n",
      "Iteration t:  600  loss:  tensor(0.5288, grad_fn=<BinaryCrossEntropyWithLogitsBackward>)\n",
      "       pred:  tensor([ 3, 12])\n",
      "Iteration t:  650  loss:  tensor(0.5148, grad_fn=<BinaryCrossEntropyWithLogitsBackward>)\n",
      "       pred:  tensor([ 3, 12])\n",
      "Iteration t:  700  loss:  tensor(0.5013, grad_fn=<BinaryCrossEntropyWithLogitsBackward>)\n",
      "       pred:  tensor([ 3, 12])\n",
      "Iteration t:  750  loss:  tensor(0.4884, grad_fn=<BinaryCrossEntropyWithLogitsBackward>)\n",
      "       pred:  tensor([ 3, 12])\n",
      "Iteration t:  800  loss:  tensor(0.4760, grad_fn=<BinaryCrossEntropyWithLogitsBackward>)\n",
      "       pred:  tensor([ 3, 12])\n",
      "STOP! t:  801\n",
      "   pred:  tensor([ 3, 14])\n"
     ]
    }
   ],
   "source": [
    "fc = nn.Linear(input_dim, output_dim)\n",
    "criterion = nn.BCEWithLogitsLoss()\n",
    "target = torch.zeros((1,output_dim))\n",
    "target[0,n]=1\n",
    "target[0,cond]=1\n",
    "\n",
    "optim = torch.optim.SGD(fc.parameters(), lr=1e-3)\n",
    "\n",
    "losses = []\n",
    "\n",
    "for t in range(1000):\n",
    "    \n",
    "    # update life\n",
    "    new_life = update_life(life, n, cond)\n",
    "    life_in = torch.FloatTensor(life).view(1, N*M)\n",
    "    new_life_in = torch.FloatTensor(new_life).view(1, N*M)\n",
    "    life_input = torch.cat((life_in, new_life_in), 1)\n",
    "    \n",
    "    out = fc(life_input)\n",
    "    #print(out)\n",
    "    loss = criterion(out, target)\n",
    "\n",
    "    pred = torch.zeros_like(target)\n",
    "    ind = torch.topk(out, 2)[1][0]\n",
    "    pred[0, ind[0]]=1\n",
    "    pred[0, ind[1]]=1\n",
    "    if torch.all(torch.eq(pred, target)):\n",
    "        print(\"STOP! t: \", t)\n",
    "        print(\"   pred: \", ind)\n",
    "        \n",
    "        break\n",
    "        \n",
    "    if t%50 == 0:\n",
    "        print(\"Iteration t: \", t, \" loss: \", loss)\n",
    "        print(\"       pred: \", ind)\n",
    "        \n",
    "    losses.append(loss)\n",
    "\n",
    "    optim.zero_grad()\n",
    "    loss.backward()\n",
    "    optim.step()\n",
    "    \n",
    "    life = copy.deepcopy(life)"
   ]
  },
  {
   "cell_type": "markdown",
   "metadata": {},
   "source": [
    "# Fifth Experiment\n",
    "\n",
    "Now, combine 3rd and 4th experiments.\n",
    "Enumerate the condition variables as:\n",
    "\n",
    "    10 -> \"<\"\n",
    "    11 -> \"=\"\n",
    "    12 -> \">\"\n",
    "    13 -> die out\n",
    "    14 -> become alive"
   ]
  },
  {
   "cell_type": "code",
   "execution_count": 56,
   "metadata": {},
   "outputs": [],
   "source": [
    "def update_life(life, n, op, cond):\n",
    "    new_life = copy.deepcopy(life)\n",
    "    for r, row in enumerate(life):\n",
    "        for c, val in enumerate(row):\n",
    "            n_neig = check_neighbours(life, r, c)\n",
    "            # This part changes at each experiment.\n",
    "            if cond == 14 and life[r][c]==0:\n",
    "                if op == 10 and n_neig < n:\n",
    "                    new_life[r][c] = 1\n",
    "                elif op == 11 and n_neig == n:\n",
    "                    new_life[r][c] = 1\n",
    "                elif op == 12 and n_neig > n:\n",
    "                    new_life[r][c] = 1\n",
    "            elif cond == 13 and life[r][c]==1:\n",
    "                if op == 10 and n_neig < n:\n",
    "                    new_life[r][c] = 0\n",
    "                elif op == 11 and n_neig == n:\n",
    "                    new_life[r][c] = 0\n",
    "                elif op == 12 and n_neig > n:\n",
    "                    new_life[r][c] = 0\n",
    "    return new_life"
   ]
  },
  {
   "cell_type": "code",
   "execution_count": 57,
   "metadata": {},
   "outputs": [],
   "source": [
    "cond = 14\n",
    "n = 3\n",
    "op = 10\n",
    "output_dim = 15"
   ]
  },
  {
   "cell_type": "code",
   "execution_count": 61,
   "metadata": {},
   "outputs": [
    {
     "name": "stdout",
     "output_type": "stream",
     "text": [
      "Iteration t:  0  loss:  tensor(0.8245, grad_fn=<BinaryCrossEntropyWithLogitsBackward>)\n",
      "       pred:  tensor([11,  7,  9])\n",
      "Iteration t:  50  loss:  tensor(0.7860, grad_fn=<BinaryCrossEntropyWithLogitsBackward>)\n",
      "       pred:  tensor([11,  7,  9])\n",
      "Iteration t:  100  loss:  tensor(0.7497, grad_fn=<BinaryCrossEntropyWithLogitsBackward>)\n",
      "       pred:  tensor([11,  7,  9])\n",
      "Iteration t:  150  loss:  tensor(0.7156, grad_fn=<BinaryCrossEntropyWithLogitsBackward>)\n",
      "       pred:  tensor([11,  7, 14])\n",
      "Iteration t:  200  loss:  tensor(0.6836, grad_fn=<BinaryCrossEntropyWithLogitsBackward>)\n",
      "       pred:  tensor([11, 14, 10])\n",
      "Iteration t:  250  loss:  tensor(0.6535, grad_fn=<BinaryCrossEntropyWithLogitsBackward>)\n",
      "       pred:  tensor([14, 10, 11])\n",
      "Iteration t:  300  loss:  tensor(0.6253, grad_fn=<BinaryCrossEntropyWithLogitsBackward>)\n",
      "       pred:  tensor([14, 10, 11])\n",
      "Iteration t:  350  loss:  tensor(0.5987, grad_fn=<BinaryCrossEntropyWithLogitsBackward>)\n",
      "       pred:  tensor([14, 10, 11])\n",
      "Iteration t:  400  loss:  tensor(0.5738, grad_fn=<BinaryCrossEntropyWithLogitsBackward>)\n",
      "       pred:  tensor([14, 10, 11])\n",
      "Iteration t:  450  loss:  tensor(0.5503, grad_fn=<BinaryCrossEntropyWithLogitsBackward>)\n",
      "       pred:  tensor([14, 10, 11])\n",
      "STOP! t:  492\n",
      "   pred:  tensor([14, 10,  3])\n"
     ]
    }
   ],
   "source": [
    "fc = nn.Linear(input_dim, output_dim)\n",
    "criterion = nn.BCEWithLogitsLoss()\n",
    "target = torch.zeros((1,output_dim))\n",
    "target[0,n]=1\n",
    "target[0,op]=1\n",
    "target[0,cond]=1\n",
    "\n",
    "optim = torch.optim.SGD(fc.parameters(), lr=1e-3)\n",
    "\n",
    "losses = []\n",
    "\n",
    "for t in range(1000):\n",
    "    \n",
    "    # update life\n",
    "    new_life = update_life(life, n, op, cond)\n",
    "    life_in = torch.FloatTensor(life).view(1, N*M)\n",
    "    new_life_in = torch.FloatTensor(new_life).view(1, N*M)\n",
    "    life_input = torch.cat((life_in, new_life_in), 1)\n",
    "    \n",
    "    out = fc(life_input)\n",
    "    #print(out)\n",
    "    loss = criterion(out, target)\n",
    "\n",
    "    pred = torch.zeros_like(target)\n",
    "    ind = torch.topk(out, 3)[1][0]\n",
    "    pred[0, ind[0]]=1\n",
    "    pred[0, ind[1]]=1\n",
    "    pred[0, ind[2]]=1\n",
    "    if torch.all(torch.eq(pred, target)):\n",
    "        print(\"STOP! t: \", t)\n",
    "        print(\"   pred: \", ind)\n",
    "        \n",
    "        break\n",
    "        \n",
    "    if t%50 == 0:\n",
    "        print(\"Iteration t: \", t, \" loss: \", loss)\n",
    "        print(\"       pred: \", ind)\n",
    "        \n",
    "    losses.append(loss)\n",
    "\n",
    "    optim.zero_grad()\n",
    "    loss.backward()\n",
    "    optim.step()\n",
    "    \n",
    "    life = copy.deepcopy(life)"
   ]
  },
  {
   "cell_type": "code",
   "execution_count": null,
   "metadata": {},
   "outputs": [],
   "source": []
  }
 ],
 "metadata": {
  "kernelspec": {
   "display_name": "Python 3",
   "language": "python",
   "name": "python3"
  },
  "language_info": {
   "codemirror_mode": {
    "name": "ipython",
    "version": 3
   },
   "file_extension": ".py",
   "mimetype": "text/x-python",
   "name": "python",
   "nbconvert_exporter": "python",
   "pygments_lexer": "ipython3",
   "version": "3.7.2"
  }
 },
 "nbformat": 4,
 "nbformat_minor": 2
}
